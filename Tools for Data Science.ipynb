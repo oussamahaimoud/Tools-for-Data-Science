{
 "cells": [
  {
   "cell_type": "markdown",
   "id": "aae94b0a",
   "metadata": {},
   "source": [
    "# My Jupyter Notebook on IBM Watson Studio"
   ]
  },
  {
   "cell_type": "markdown",
   "id": "ab385e04",
   "metadata": {},
   "source": [
    "## **Oussama HAIMOUD**\n",
    "Actuary / Data Scientist"
   ]
  },
  {
   "cell_type": "markdown",
   "id": "217726cd",
   "metadata": {},
   "source": [
    "**I am interested in data science because**"
   ]
  },
  {
   "cell_type": "markdown",
   "id": "9987975b",
   "metadata": {},
   "source": [
    "### The following code will add two numbers"
   ]
  },
  {
   "cell_type": "code",
   "execution_count": 22,
   "id": "0bd049c9",
   "metadata": {},
   "outputs": [
    {
     "name": "stdout",
     "output_type": "stream",
     "text": [
      "the sum of 2.5 and 3.4 is 5.9\n"
     ]
    }
   ],
   "source": [
    "num1 = 2.5\n",
    "num2 = 3.4\n",
    "\n",
    "# Add two numbers\n",
    "sum = num1 + num2\n",
    "\n",
    "# Display the sum\n",
    "print('the sum of {0} and {1} is {2}' .format(num1, num2, sum))\n"
   ]
  },
  {
   "cell_type": "markdown",
   "id": "d256c00e",
   "metadata": {},
   "source": [
    "1. Soccer\n",
    "2. Baby-foot\n",
    "3. Futsal\n",
    "\n",
    "* Soccer\n",
    "* Baby-foot\n",
    "* Futsal\n",
    "\n",
    "[Link in bio](https://www.google.com)"
   ]
  },
  {
   "cell_type": "code",
   "execution_count": null,
   "id": "190aea50",
   "metadata": {},
   "outputs": [],
   "source": []
  }
 ],
 "metadata": {
  "kernelspec": {
   "display_name": "Python 3",
   "language": "python",
   "name": "python3"
  },
  "language_info": {
   "codemirror_mode": {
    "name": "ipython",
    "version": 3
   },
   "file_extension": ".py",
   "mimetype": "text/x-python",
   "name": "python",
   "nbconvert_exporter": "python",
   "pygments_lexer": "ipython3",
   "version": "3.8.8"
  }
 },
 "nbformat": 4,
 "nbformat_minor": 5
}
